{
  "nbformat": 4,
  "nbformat_minor": 0,
  "metadata": {
    "colab": {
      "provenance": [],
      "collapsed_sections": [
        "SQqDkPQom3T3",
        "KktVOIerR8Sr",
        "2Oc2CdNYYOsv"
      ],
      "gpuType": "T4"
    },
    "kernelspec": {
      "name": "python3",
      "display_name": "Python 3"
    },
    "language_info": {
      "name": "python"
    },
    "accelerator": "GPU"
  },
  "cells": [
    {
      "cell_type": "markdown",
      "source": [
        "## Importing Dependencies"
      ],
      "metadata": {
        "id": "FZq_1_NNmb-I"
      }
    },
    {
      "cell_type": "code",
      "execution_count": 2,
      "metadata": {
        "id": "u2Nix5I4mYLw"
      },
      "outputs": [],
      "source": [
        "# Importing necessary libraries\n",
        "import torch\n",
        "import torch.nn as nn\n",
        "import torch.nn.functional as F\n",
        "import torch.optim as optim\n",
        "from torch.utils.data.sampler import SubsetRandomSampler\n",
        "from torchvision import datasets, transforms\n",
        "from torch.utils.data.dataset import random_split\n",
        "from torch.utils.data import DataLoader\n",
        "\n",
        "from tqdm import tqdm\n",
        "import numpy as np\n",
        "import matplotlib.pyplot as plt\n",
        "import os\n",
        "from pathlib import Path\n",
        "from sklearn.metrics import classification_report, confusion_matrix\n"
      ]
    },
    {
      "cell_type": "markdown",
      "source": [
        "## Load the data"
      ],
      "metadata": {
        "id": "SQqDkPQom3T3"
      }
    },
    {
      "cell_type": "code",
      "source": [
        "# Define a transform to normalize the data\n",
        "transform = transforms.Compose([\n",
        "    transforms.ToTensor(),  # Converts a PIL Image or numpy.ndarray to tensor.\n",
        "    transforms.Normalize((0.5,), (0.5,))  # Normalizes a tensor image with mean and standard deviation.\n",
        "])\n",
        "\n",
        "# Download and load the training data\n",
        "trainset = datasets.MNIST('~/.pytorch/MNIST_data/', download=True, train=True, transform=transform)\n",
        "trainloader = DataLoader(trainset, batch_size=1024, shuffle=True)\n",
        "\n",
        "# Download and load the test data\n",
        "testset = datasets.MNIST('~/.pytorch/MNIST_data/', download=True, train=False, transform=transform)\n",
        "testloader = DataLoader(testset, batch_size=1024, shuffle=True)"
      ],
      "metadata": {
        "id": "wBHxzklFm5Pn",
        "colab": {
          "base_uri": "https://localhost:8080/"
        },
        "outputId": "681d88c7-f0a4-4b26-8148-5cb4e8abcd71"
      },
      "execution_count": 3,
      "outputs": [
        {
          "output_type": "stream",
          "name": "stdout",
          "text": [
            "Downloading http://yann.lecun.com/exdb/mnist/train-images-idx3-ubyte.gz\n",
            "Failed to download (trying next):\n",
            "HTTP Error 403: Forbidden\n",
            "\n",
            "Downloading https://ossci-datasets.s3.amazonaws.com/mnist/train-images-idx3-ubyte.gz\n",
            "Downloading https://ossci-datasets.s3.amazonaws.com/mnist/train-images-idx3-ubyte.gz to /root/.pytorch/MNIST_data/MNIST/raw/train-images-idx3-ubyte.gz\n"
          ]
        },
        {
          "output_type": "stream",
          "name": "stderr",
          "text": [
            "100%|██████████| 9912422/9912422 [00:01<00:00, 5485960.90it/s]\n"
          ]
        },
        {
          "output_type": "stream",
          "name": "stdout",
          "text": [
            "Extracting /root/.pytorch/MNIST_data/MNIST/raw/train-images-idx3-ubyte.gz to /root/.pytorch/MNIST_data/MNIST/raw\n",
            "\n",
            "Downloading http://yann.lecun.com/exdb/mnist/train-labels-idx1-ubyte.gz\n",
            "Failed to download (trying next):\n",
            "HTTP Error 403: Forbidden\n",
            "\n",
            "Downloading https://ossci-datasets.s3.amazonaws.com/mnist/train-labels-idx1-ubyte.gz\n",
            "Downloading https://ossci-datasets.s3.amazonaws.com/mnist/train-labels-idx1-ubyte.gz to /root/.pytorch/MNIST_data/MNIST/raw/train-labels-idx1-ubyte.gz\n"
          ]
        },
        {
          "output_type": "stream",
          "name": "stderr",
          "text": [
            "100%|██████████| 28881/28881 [00:00<00:00, 161477.23it/s]\n"
          ]
        },
        {
          "output_type": "stream",
          "name": "stdout",
          "text": [
            "Extracting /root/.pytorch/MNIST_data/MNIST/raw/train-labels-idx1-ubyte.gz to /root/.pytorch/MNIST_data/MNIST/raw\n",
            "\n",
            "Downloading http://yann.lecun.com/exdb/mnist/t10k-images-idx3-ubyte.gz\n",
            "Failed to download (trying next):\n",
            "HTTP Error 403: Forbidden\n",
            "\n",
            "Downloading https://ossci-datasets.s3.amazonaws.com/mnist/t10k-images-idx3-ubyte.gz\n",
            "Downloading https://ossci-datasets.s3.amazonaws.com/mnist/t10k-images-idx3-ubyte.gz to /root/.pytorch/MNIST_data/MNIST/raw/t10k-images-idx3-ubyte.gz\n"
          ]
        },
        {
          "output_type": "stream",
          "name": "stderr",
          "text": [
            "100%|██████████| 1648877/1648877 [00:01<00:00, 1306020.67it/s]\n"
          ]
        },
        {
          "output_type": "stream",
          "name": "stdout",
          "text": [
            "Extracting /root/.pytorch/MNIST_data/MNIST/raw/t10k-images-idx3-ubyte.gz to /root/.pytorch/MNIST_data/MNIST/raw\n",
            "\n",
            "Downloading http://yann.lecun.com/exdb/mnist/t10k-labels-idx1-ubyte.gz\n",
            "Failed to download (trying next):\n",
            "HTTP Error 403: Forbidden\n",
            "\n",
            "Downloading https://ossci-datasets.s3.amazonaws.com/mnist/t10k-labels-idx1-ubyte.gz\n",
            "Downloading https://ossci-datasets.s3.amazonaws.com/mnist/t10k-labels-idx1-ubyte.gz to /root/.pytorch/MNIST_data/MNIST/raw/t10k-labels-idx1-ubyte.gz\n"
          ]
        },
        {
          "output_type": "stream",
          "name": "stderr",
          "text": [
            "100%|██████████| 4542/4542 [00:00<00:00, 9167723.18it/s]"
          ]
        },
        {
          "output_type": "stream",
          "name": "stdout",
          "text": [
            "Extracting /root/.pytorch/MNIST_data/MNIST/raw/t10k-labels-idx1-ubyte.gz to /root/.pytorch/MNIST_data/MNIST/raw\n",
            "\n"
          ]
        },
        {
          "output_type": "stream",
          "name": "stderr",
          "text": [
            "\n"
          ]
        }
      ]
    },
    {
      "cell_type": "code",
      "source": [
        "len(trainset)"
      ],
      "metadata": {
        "colab": {
          "base_uri": "https://localhost:8080/"
        },
        "id": "g94zt25BQTHN",
        "outputId": "9a0e2487-c129-43a1-b372-f74c1fac6f24"
      },
      "execution_count": 4,
      "outputs": [
        {
          "output_type": "execute_result",
          "data": {
            "text/plain": [
              "60000"
            ]
          },
          "metadata": {},
          "execution_count": 4
        }
      ]
    },
    {
      "cell_type": "code",
      "source": [
        "print(len(trainloader))"
      ],
      "metadata": {
        "colab": {
          "base_uri": "https://localhost:8080/"
        },
        "id": "wZFJdRGrQcbQ",
        "outputId": "d818a70c-b811-4eb5-8d7f-592653614ef2"
      },
      "execution_count": 5,
      "outputs": [
        {
          "output_type": "stream",
          "name": "stdout",
          "text": [
            "59\n"
          ]
        }
      ]
    },
    {
      "cell_type": "code",
      "source": [
        "len(trainset) / 1024"
      ],
      "metadata": {
        "colab": {
          "base_uri": "https://localhost:8080/"
        },
        "id": "5vDHL5YBQgEn",
        "outputId": "23aff7d0-b99c-48f5-9e8a-d8868bab0298"
      },
      "execution_count": 6,
      "outputs": [
        {
          "output_type": "execute_result",
          "data": {
            "text/plain": [
              "58.59375"
            ]
          },
          "metadata": {},
          "execution_count": 6
        }
      ]
    },
    {
      "cell_type": "code",
      "source": [
        "trainset[1001][1]"
      ],
      "metadata": {
        "colab": {
          "base_uri": "https://localhost:8080/"
        },
        "id": "2_T_b-cnSN_6",
        "outputId": "bcc2554f-e1f9-4779-d0c0-ccf154a875ac"
      },
      "execution_count": 7,
      "outputs": [
        {
          "output_type": "execute_result",
          "data": {
            "text/plain": [
              "7"
            ]
          },
          "metadata": {},
          "execution_count": 7
        }
      ]
    },
    {
      "cell_type": "markdown",
      "source": [
        "## Data Visualization"
      ],
      "metadata": {
        "id": "KktVOIerR8Sr"
      }
    },
    {
      "cell_type": "code",
      "source": [
        "def imshow(image, ax = None, title = None, normalize = True):\n",
        "\n",
        "  if ax is None:\n",
        "    fig, ax = plt.subplots()\n",
        "  image = image.numpy().transpose((1,2,0))\n",
        "\n",
        "  if normalize:\n",
        "    mean = np.array((.5,))\n",
        "    std = np.array((.5,))\n",
        "    image = std* image + mean\n",
        "    image = np.clip(image, 0, 1)\n",
        "\n",
        "  ax.imshow(image.squeeze(), cmap = 'gray')\n",
        "  if title:\n",
        "    ax.set_title(title)\n",
        "  ax.axis('off')\n",
        "\n",
        "  return ax"
      ],
      "metadata": {
        "id": "u4gWfttiSDiP"
      },
      "execution_count": 8,
      "outputs": []
    },
    {
      "cell_type": "code",
      "source": [
        "dataiter = iter(trainloader)\n",
        "images, labels = next(dataiter)\n",
        "\n",
        "fig, axes = plt.subplots(figsize=(20, 4), ncols=16)\n",
        "for ii in range(16):\n",
        "    ax = axes[ii]\n",
        "    imshow(images[ii], ax=ax, title=f\"Label: {labels[ii]}\")\n"
      ],
      "metadata": {
        "colab": {
          "base_uri": "https://localhost:8080/",
          "height": 0
        },
        "id": "kKbkGKFJUTCx",
        "outputId": "39814b3b-1bc5-48eb-99af-4015f8e47a90"
      },
      "execution_count": 9,
      "outputs": [
        {
          "output_type": "display_data",
          "data": {
            "text/plain": [
              "<Figure size 2000x400 with 16 Axes>"
            ],
            "image/png": "[encoded data removed]"
          },
          "metadata": {}
        }
      ]
    },
    {
      "cell_type": "markdown",
      "source": [
        "## Analyze the Dataset"
      ],
      "metadata": {
        "id": "2Oc2CdNYYOsv"
      }
    },
    {
      "cell_type": "code",
      "source": [
        "print(\"Length of the train dataset: \", len(trainset))\n",
        "print(\"Length of the test dataset: \", len(testset))\n",
        "print(\"Length of the dataset: \", len(trainset))\n",
        "print(\"Image shape: \", trainset[0][0].shape)\n",
        "print('--'*40)\n",
        "\n",
        "from collections import Counter\n",
        "train_labels = [label for _, label in trainset]\n",
        "label_count  = Counter(train_labels)\n",
        "print('Training Set Class Distribution:', label_count)"
      ],
      "metadata": {
        "id": "JmGaLjtQYRbv",
        "colab": {
          "base_uri": "https://localhost:8080/"
        },
        "outputId": "e3e9eb24-69c7-4b56-8244-b17f3e73591f"
      },
      "execution_count": 10,
      "outputs": [
        {
          "output_type": "stream",
          "name": "stdout",
          "text": [
            "Length of the train dataset:  60000\n",
            "Length of the test dataset:  10000\n",
            "Length of the dataset:  60000\n",
            "Image shape:  torch.Size([1, 28, 28])\n",
            "--------------------------------------------------------------------------------\n",
            "Training Set Class Distribution: Counter({1: 6742, 7: 6265, 3: 6131, 2: 5958, 9: 5949, 0: 5923, 6: 5918, 8: 5851, 4: 5842, 5: 5421})\n"
          ]
        }
      ]
    },
    {
      "cell_type": "markdown",
      "source": [
        "## Define the Model"
      ],
      "metadata": {
        "id": "HS7aUJR3mbxQ"
      }
    },
    {
      "cell_type": "code",
      "source": [
        "# Define the neural network class\n",
        "class Net(nn.Module):\n",
        "    def __init__(self):\n",
        "        super(Net, self).__init__()\n",
        "        # Convolutional layers\n",
        "        self.conv1 = nn.Conv2d(1, 32, 3, 1)\n",
        "        self.conv2 = nn.Conv2d(32, 64, 3, 1)\n",
        "        # Dropout layers to reduce overfitting\n",
        "        self.dropout1 = nn.Dropout(0.25)\n",
        "        self.dropout2 = nn.Dropout(0.5)\n",
        "        # Fully connected layers\n",
        "        self.fc1 = nn.Linear(9216, 128)\n",
        "        self.fc2 = nn.Linear(128, 10)\n",
        "\n",
        "    def forward(self, x):\n",
        "        # Convolutional layers with ReLU activation\n",
        "        x = self.conv1(x)\n",
        "        x = F.relu(x)\n",
        "        x = self.conv2(x)\n",
        "        x = F.relu(x)\n",
        "        x = F.max_pool2d(x, 2)\n",
        "        x = self.dropout1(x)\n",
        "        x = torch.flatten(x, 1)\n",
        "\n",
        "        # Fully connected layers with dropout\n",
        "        x = self.fc1(x)\n",
        "        x = F.relu(x)\n",
        "        x = self.dropout2(x)\n",
        "        x = self.fc2(x)\n",
        "        output = F.log_softmax(x, dim=1)\n",
        "\n",
        "        return output\n",
        "\n"
      ],
      "metadata": {
        "id": "TPgnlWj7mbSD"
      },
      "execution_count": 11,
      "outputs": []
    },
    {
      "cell_type": "markdown",
      "source": [
        "## Hyperparameter and Early Stopping"
      ],
      "metadata": {
        "id": "jq68jFm4Va8V"
      }
    },
    {
      "cell_type": "code",
      "source": [
        "# Hyperparameters\n",
        "learning_rate = 0.001\n",
        "batch_size = 1024\n",
        "n_epochs = 50\n",
        "patience = 5\n",
        "\n",
        "# Initialize the network and optimizer\n",
        "model = Net()\n",
        "optimizer = optim.Adam(model.parameters(), lr=learning_rate)\n",
        "criterion = nn.CrossEntropyLoss()\n"
      ],
      "metadata": {
        "id": "LgybnfEpVj67"
      },
      "execution_count": 17,
      "outputs": []
    },
    {
      "cell_type": "code",
      "source": [
        "device= torch.device(\"cuda\" if torch.cuda.is_available() else \"cpu\")\n",
        "print(\"Devive = \", device)\n",
        "model.to(device)\n",
        "\n",
        "val_loss_min = np.Inf\n",
        "patience_counter = 0"
      ],
      "metadata": {
        "colab": {
          "base_uri": "https://localhost:8080/"
        },
        "id": "LoaN-9lrerc1",
        "outputId": "8e53c670-76fd-43b5-8d8d-f1e322f85875"
      },
      "execution_count": 18,
      "outputs": [
        {
          "output_type": "stream",
          "name": "stdout",
          "text": [
            "Devive =  cuda\n"
          ]
        }
      ]
    },
    {
      "cell_type": "code",
      "source": [
        "torch.cuda.is_available()"
      ],
      "metadata": {
        "colab": {
          "base_uri": "https://localhost:8080/"
        },
        "id": "KTEJGHPdfL0f",
        "outputId": "5c189cf2-ad33-45be-b7f9-4856482d59bf"
      },
      "execution_count": 19,
      "outputs": [
        {
          "output_type": "execute_result",
          "data": {
            "text/plain": [
              "True"
            ]
          },
          "metadata": {},
          "execution_count": 19
        }
      ]
    },
    {
      "cell_type": "markdown",
      "source": [
        "## Train-Validation-Test Split"
      ],
      "metadata": {
        "id": "YeC95F5XfQR1"
      }
    },
    {
      "cell_type": "code",
      "source": [
        "num_train = len(trainset)\n",
        "num_valid = int(0.2 * num_train)\n",
        "num_train = num_train -  num_valid\n",
        "\n",
        "train_data, valid_data  = random_split(trainset, [num_train,num_valid])"
      ],
      "metadata": {
        "id": "I4WbawqufT4N"
      },
      "execution_count": 20,
      "outputs": []
    },
    {
      "cell_type": "markdown",
      "source": [
        "## Data Loader"
      ],
      "metadata": {
        "id": "5S7JMuFpiVnc"
      }
    },
    {
      "cell_type": "code",
      "source": [
        "train_loader = DataLoader(train_data, batch_size = 1024, shuffle  = True)\n",
        "valid_loader = DataLoader(valid_data, batch_size = 1024, shuffle  = True)"
      ],
      "metadata": {
        "id": "qw-iKTv1iXh0"
      },
      "execution_count": 21,
      "outputs": []
    },
    {
      "cell_type": "markdown",
      "source": [
        "## Train-Validation-Test Loop"
      ],
      "metadata": {
        "id": "jYaERjafioZL"
      }
    },
    {
      "cell_type": "code",
      "source": [
        "for epoch in range(1, n_epochs+1):\n",
        "  train_loss = 0.0\n",
        "  valid_loss = 0.0\n",
        "  correct = 0\n",
        "  total = 0\n",
        "\n",
        "  model.train()\n",
        "\n",
        "  for idx, (data,target) in enumerate(tqdm(train_loader)):\n",
        "    data, target = data.to(device),target.to(device)\n",
        "    optimizer.zero_grad()\n",
        "    output = model(data)\n",
        "    loss = criterion(output,target)\n",
        "    loss.backward()\n",
        "    optimizer.step()\n",
        "    train_loss = train_loss + loss.item() * data.size(0)\n",
        "\n",
        "\n",
        "  model.eval()\n",
        "\n",
        "  for idx, (data, target) in enumerate(tqdm(valid_loader)):\n",
        "    data, target = data.to(device), target.to(device)\n",
        "    output = model(data)\n",
        "    loss = criterion(output, target)\n",
        "    valid_loss = valid_loss + loss.item()*data.size(0)\n",
        "    pred = output.argmax(dim = 1, keepdim = True)\n",
        "    correct = correct + pred.eq(target.view_as(pred)).sum().item()\n",
        "    total  = total + target.size(0)\n",
        "\n",
        "\n",
        "  train_loss = train_loss / len(train_loader.sampler)\n",
        "  valid_loss = valid_loss / len(valid_loader.sampler)\n",
        "  accuracy = (correct / total) * 100\n",
        "\n",
        "\n",
        "  print('Epoch: {} \\ Training Loss {:.6f} \\tValidation Loss: {:.6f} \\Accuracy: {:.2f}%'.format(epoch, train_loss, valid_loss, accuracy))\n",
        "\n",
        "  if valid_loss <= val_loss_min:\n",
        "    print('Validation loss decreases ({:.6f} --> {:.6f}). saving model....'.format(val_loss_min,valid_loss,))\n",
        "    torch.save(model.state_dict(), 'model_cifar.pt')\n",
        "    val_loss_min = valid_loss\n",
        "    patiences_counter = 0\n",
        "\n",
        "  else:\n",
        "    patience_counter+=1\n",
        "    print(f'EarlyStopping counter: {patience_counter} out of {patience}')\n",
        "\n",
        "    if patience_counter >= patience:\n",
        "      print('Early Stopping Triggered')\n",
        "      break"
      ],
      "metadata": {
        "colab": {
          "base_uri": "https://localhost:8080/"
        },
        "id": "g2femhB8isZ8",
        "outputId": "203043a6-c14a-4082-adbf-19417c887eef"
      },
      "execution_count": 22,
      "outputs": [
        {
          "output_type": "stream",
          "name": "stderr",
          "text": [
            "100%|██████████| 47/47 [00:13<00:00,  3.42it/s]\n",
            "100%|██████████| 12/12 [00:02<00:00,  4.23it/s]\n"
          ]
        },
        {
          "output_type": "stream",
          "name": "stdout",
          "text": [
            "Epoch: 1 \\ Training Loss 0.734116 \tValidation Loss: 0.199722 \\Accuracy: 94.21%\n",
            "Validation loss decreases (inf --> 0.199722). saving model....\n"
          ]
        },
        {
          "output_type": "stream",
          "name": "stderr",
          "text": [
            "100%|██████████| 47/47 [00:14<00:00,  3.17it/s]\n",
            "100%|██████████| 12/12 [00:03<00:00,  3.52it/s]\n"
          ]
        },
        {
          "output_type": "stream",
          "name": "stdout",
          "text": [
            "Epoch: 2 \\ Training Loss 0.206723 \tValidation Loss: 0.099683 \\Accuracy: 97.19%\n",
            "Validation loss decreases (0.199722 --> 0.099683). saving model....\n"
          ]
        },
        {
          "output_type": "stream",
          "name": "stderr",
          "text": [
            "100%|██████████| 47/47 [00:16<00:00,  2.81it/s]\n",
            "100%|██████████| 12/12 [00:02<00:00,  4.92it/s]\n"
          ]
        },
        {
          "output_type": "stream",
          "name": "stdout",
          "text": [
            "Epoch: 3 \\ Training Loss 0.129224 \tValidation Loss: 0.073080 \\Accuracy: 97.84%\n",
            "Validation loss decreases (0.099683 --> 0.073080). saving model....\n"
          ]
        },
        {
          "output_type": "stream",
          "name": "stderr",
          "text": [
            "100%|██████████| 47/47 [00:12<00:00,  3.75it/s]\n",
            "100%|██████████| 12/12 [00:02<00:00,  4.83it/s]\n"
          ]
        },
        {
          "output_type": "stream",
          "name": "stdout",
          "text": [
            "Epoch: 4 \\ Training Loss 0.096260 \tValidation Loss: 0.059340 \\Accuracy: 98.21%\n",
            "Validation loss decreases (0.073080 --> 0.059340). saving model....\n"
          ]
        },
        {
          "output_type": "stream",
          "name": "stderr",
          "text": [
            "100%|██████████| 47/47 [00:14<00:00,  3.13it/s]\n",
            "100%|██████████| 12/12 [00:02<00:00,  4.76it/s]\n"
          ]
        },
        {
          "output_type": "stream",
          "name": "stdout",
          "text": [
            "Epoch: 5 \\ Training Loss 0.080487 \tValidation Loss: 0.057024 \\Accuracy: 98.21%\n",
            "Validation loss decreases (0.059340 --> 0.057024). saving model....\n"
          ]
        },
        {
          "output_type": "stream",
          "name": "stderr",
          "text": [
            "100%|██████████| 47/47 [00:12<00:00,  3.76it/s]\n",
            "100%|██████████| 12/12 [00:02<00:00,  4.52it/s]\n"
          ]
        },
        {
          "output_type": "stream",
          "name": "stdout",
          "text": [
            "Epoch: 6 \\ Training Loss 0.069037 \tValidation Loss: 0.053887 \\Accuracy: 98.34%\n",
            "Validation loss decreases (0.057024 --> 0.053887). saving model....\n"
          ]
        },
        {
          "output_type": "stream",
          "name": "stderr",
          "text": [
            "100%|██████████| 47/47 [00:12<00:00,  3.78it/s]\n",
            "100%|██████████| 12/12 [00:03<00:00,  3.70it/s]\n"
          ]
        },
        {
          "output_type": "stream",
          "name": "stdout",
          "text": [
            "Epoch: 7 \\ Training Loss 0.063205 \tValidation Loss: 0.049884 \\Accuracy: 98.56%\n",
            "Validation loss decreases (0.053887 --> 0.049884). saving model....\n"
          ]
        },
        {
          "output_type": "stream",
          "name": "stderr",
          "text": [
            "100%|██████████| 47/47 [00:12<00:00,  3.87it/s]\n",
            "100%|██████████| 12/12 [00:03<00:00,  3.58it/s]\n"
          ]
        },
        {
          "output_type": "stream",
          "name": "stdout",
          "text": [
            "Epoch: 8 \\ Training Loss 0.058325 \tValidation Loss: 0.047233 \\Accuracy: 98.60%\n",
            "Validation loss decreases (0.049884 --> 0.047233). saving model....\n"
          ]
        },
        {
          "output_type": "stream",
          "name": "stderr",
          "text": [
            "100%|██████████| 47/47 [00:12<00:00,  3.87it/s]\n",
            "100%|██████████| 12/12 [00:02<00:00,  4.29it/s]\n"
          ]
        },
        {
          "output_type": "stream",
          "name": "stdout",
          "text": [
            "Epoch: 9 \\ Training Loss 0.053623 \tValidation Loss: 0.046265 \\Accuracy: 98.68%\n",
            "Validation loss decreases (0.047233 --> 0.046265). saving model....\n"
          ]
        },
        {
          "output_type": "stream",
          "name": "stderr",
          "text": [
            "100%|██████████| 47/47 [00:12<00:00,  3.70it/s]\n",
            "100%|██████████| 12/12 [00:02<00:00,  4.90it/s]\n"
          ]
        },
        {
          "output_type": "stream",
          "name": "stdout",
          "text": [
            "Epoch: 10 \\ Training Loss 0.047078 \tValidation Loss: 0.044956 \\Accuracy: 98.76%\n",
            "Validation loss decreases (0.046265 --> 0.044956). saving model....\n"
          ]
        },
        {
          "output_type": "stream",
          "name": "stderr",
          "text": [
            "100%|██████████| 47/47 [00:12<00:00,  3.71it/s]\n",
            "100%|██████████| 12/12 [00:02<00:00,  4.74it/s]\n"
          ]
        },
        {
          "output_type": "stream",
          "name": "stdout",
          "text": [
            "Epoch: 11 \\ Training Loss 0.043878 \tValidation Loss: 0.041017 \\Accuracy: 98.90%\n",
            "Validation loss decreases (0.044956 --> 0.041017). saving model....\n"
          ]
        },
        {
          "output_type": "stream",
          "name": "stderr",
          "text": [
            "100%|██████████| 47/47 [00:12<00:00,  3.74it/s]\n",
            "100%|██████████| 12/12 [00:02<00:00,  4.93it/s]\n"
          ]
        },
        {
          "output_type": "stream",
          "name": "stdout",
          "text": [
            "Epoch: 12 \\ Training Loss 0.042667 \tValidation Loss: 0.043069 \\Accuracy: 98.85%\n",
            "EarlyStopping counter: 1 out of 5\n"
          ]
        },
        {
          "output_type": "stream",
          "name": "stderr",
          "text": [
            "100%|██████████| 47/47 [00:12<00:00,  3.75it/s]\n",
            "100%|██████████| 12/12 [00:02<00:00,  4.80it/s]\n"
          ]
        },
        {
          "output_type": "stream",
          "name": "stdout",
          "text": [
            "Epoch: 13 \\ Training Loss 0.035561 \tValidation Loss: 0.046539 \\Accuracy: 98.84%\n",
            "EarlyStopping counter: 2 out of 5\n"
          ]
        },
        {
          "output_type": "stream",
          "name": "stderr",
          "text": [
            "100%|██████████| 47/47 [00:12<00:00,  3.75it/s]\n",
            "100%|██████████| 12/12 [00:02<00:00,  4.89it/s]\n"
          ]
        },
        {
          "output_type": "stream",
          "name": "stdout",
          "text": [
            "Epoch: 14 \\ Training Loss 0.034175 \tValidation Loss: 0.045792 \\Accuracy: 98.88%\n",
            "EarlyStopping counter: 3 out of 5\n"
          ]
        },
        {
          "output_type": "stream",
          "name": "stderr",
          "text": [
            "100%|██████████| 47/47 [00:12<00:00,  3.75it/s]\n",
            "100%|██████████| 12/12 [00:02<00:00,  4.41it/s]\n"
          ]
        },
        {
          "output_type": "stream",
          "name": "stdout",
          "text": [
            "Epoch: 15 \\ Training Loss 0.032943 \tValidation Loss: 0.042699 \\Accuracy: 98.97%\n",
            "EarlyStopping counter: 4 out of 5\n"
          ]
        },
        {
          "output_type": "stream",
          "name": "stderr",
          "text": [
            "100%|██████████| 47/47 [00:12<00:00,  3.78it/s]\n",
            "100%|██████████| 12/12 [00:03<00:00,  3.63it/s]"
          ]
        },
        {
          "output_type": "stream",
          "name": "stdout",
          "text": [
            "Epoch: 16 \\ Training Loss 0.030938 \tValidation Loss: 0.045399 \\Accuracy: 98.82%\n",
            "EarlyStopping counter: 5 out of 5\n",
            "Early Stopping Triggered\n"
          ]
        },
        {
          "output_type": "stream",
          "name": "stderr",
          "text": [
            "\n"
          ]
        }
      ]
    },
    {
      "cell_type": "markdown",
      "source": [
        "## Load the best Model and Evaluate"
      ],
      "metadata": {
        "id": "M7vHZJ9NtKMT"
      }
    },
    {
      "cell_type": "code",
      "source": [
        "# Load the best model\n",
        "model.load_state_dict(torch.load('model_cifar.pt'))\n",
        "\n",
        "# Test the model using the testset\n",
        "test_loss = 0.0\n",
        "class_correct = list(0. for i in range(10))\n",
        "class_total = list(0. for i in range(10))\n",
        "\n",
        "# Evaluating the model we saved usign the testset\n",
        "model.eval()\n",
        "with torch.no_grad():\n",
        "  for idx, (data,target) in enumerate(tqdm(testloader)):\n",
        "    data, target = data.to(device), target.to(device)\n",
        "    output = model(data)\n",
        "    loss = criterion(output,target)\n",
        "    test_loss = test_loss + loss.item()*data.size(0)\n",
        "\n",
        "    _, pred = torch.max(output, 1)\n",
        "    correct_tensor = pred.eq(target.view_as(pred))\n",
        "\n",
        "    if not torch.cuda.is_available():\n",
        "      correct = np.squeeze(correct_tensor.numpy())\n",
        "    else:\n",
        "      correct = np.squeeze(correct_tensor.cpu().numpy())\n",
        "\n",
        "    for i in range(len(target)):\n",
        "      label = target[i]\n",
        "      class_correct[label] = class_correct[label] + correct[i].item()\n",
        "      class_total[label]+=1\n",
        "\n"
      ],
      "metadata": {
        "colab": {
          "base_uri": "https://localhost:8080/"
        },
        "id": "ALLbXRBccMTN",
        "outputId": "52638875-cb70-4a20-c2e6-3610b078d968"
      },
      "execution_count": 23,
      "outputs": [
        {
          "output_type": "stream",
          "name": "stderr",
          "text": [
            "100%|██████████| 10/10 [00:03<00:00,  3.30it/s]\n"
          ]
        }
      ]
    },
    {
      "cell_type": "code",
      "source": [
        "classes = [str(i) for i in range(10)]  # Creates a list of class names ['0', '1', ..., '9']\n",
        "\n",
        "# Calculate and print avg test loss\n",
        "test_loss = test_loss/len(testloader.sampler)\n",
        "print('Test Loss: {:.6f}\\n'.format(test_loss))\n",
        "\n",
        "for i in range(10):\n",
        "    if class_total[i] > 0:\n",
        "        print('Test Accuracy of %5s: %2d%% (%2d/%2d)' % (\n",
        "            str(i), 100 * class_correct[i] / class_total[i],\n",
        "            np.sum(class_correct[i]), np.sum(class_total[i])))\n",
        "    else:\n",
        "        print('Test Accuracy of %5s: N/A (no training examples)' % (classes[i]))\n",
        "\n",
        "print('\\nTest Accuracy (Overall): %2d%% (%2d/%2d)' % (\n",
        "    100. * np.sum(class_correct) / np.sum(class_total),\n",
        "    np.sum(class_correct), np.sum(class_total)))"
      ],
      "metadata": {
        "colab": {
          "base_uri": "https://localhost:8080/"
        },
        "id": "liGLgKwbIYeg",
        "outputId": "00104854-03bd-4adf-da13-16fe73b3af1e"
      },
      "execution_count": 24,
      "outputs": [
        {
          "output_type": "stream",
          "name": "stdout",
          "text": [
            "Test Loss: 0.032940\n",
            "\n",
            "Test Accuracy of     0: 99% (977/980)\n",
            "Test Accuracy of     1: 99% (1128/1135)\n",
            "Test Accuracy of     2: 98% (1020/1032)\n",
            "Test Accuracy of     3: 99% (1000/1010)\n",
            "Test Accuracy of     4: 98% (971/982)\n",
            "Test Accuracy of     5: 99% (884/892)\n",
            "Test Accuracy of     6: 98% (945/958)\n",
            "Test Accuracy of     7: 98% (1016/1028)\n",
            "Test Accuracy of     8: 98% (960/974)\n",
            "Test Accuracy of     9: 98% (993/1009)\n",
            "\n",
            "Test Accuracy (Overall): 98% (9894/10000)\n"
          ]
        }
      ]
    },
    {
      "cell_type": "code",
      "source": [
        "# Print classification report and confusion matrix\n",
        "y_true = []\n",
        "y_pred = []\n",
        "model.eval()\n",
        "with torch.no_grad():\n",
        "    for idx, (data, target) in enumerate(tqdm(testloader)):\n",
        "        data, target = data.to(device), target.to(device)\n",
        "        output = model(data)\n",
        "        _, preds = torch.max(output, 1)\n",
        "        y_true.extend(target.view_as(preds).tolist())\n",
        "        y_pred.extend(preds.tolist())\n",
        "\n",
        "print(classification_report(y_true, y_pred))\n",
        "print(confusion_matrix(y_true, y_pred))"
      ],
      "metadata": {
        "colab": {
          "base_uri": "https://localhost:8080/"
        },
        "id": "6LElUYJjIa0t",
        "outputId": "26867595-e7f1-4e6e-d994-3e62bb009ad3"
      },
      "execution_count": 25,
      "outputs": [
        {
          "output_type": "stream",
          "name": "stderr",
          "text": [
            "100%|██████████| 10/10 [00:02<00:00,  4.19it/s]\n"
          ]
        },
        {
          "output_type": "stream",
          "name": "stdout",
          "text": [
            "              precision    recall  f1-score   support\n",
            "\n",
            "           0       0.99      1.00      0.99       980\n",
            "           1       0.99      0.99      0.99      1135\n",
            "           2       0.99      0.99      0.99      1032\n",
            "           3       0.99      0.99      0.99      1010\n",
            "           4       0.99      0.99      0.99       982\n",
            "           5       0.99      0.99      0.99       892\n",
            "           6       0.99      0.99      0.99       958\n",
            "           7       0.99      0.99      0.99      1028\n",
            "           8       0.99      0.99      0.99       974\n",
            "           9       0.99      0.98      0.99      1009\n",
            "\n",
            "    accuracy                           0.99     10000\n",
            "   macro avg       0.99      0.99      0.99     10000\n",
            "weighted avg       0.99      0.99      0.99     10000\n",
            "\n",
            "[[ 977    0    0    0    0    0    1    1    1    0]\n",
            " [   0 1128    1    1    0    1    4    0    0    0]\n",
            " [   1    2 1020    1    2    0    0    4    2    0]\n",
            " [   0    0    2 1000    0    4    0    2    1    1]\n",
            " [   0    0    0    0  971    0    3    0    1    7]\n",
            " [   1    0    0    4    0  884    2    0    1    0]\n",
            " [   4    2    0    0    1    4  945    0    2    0]\n",
            " [   0    1    7    1    0    0    0 1016    1    2]\n",
            " [   3    0    1    1    2    0    2    2  960    3]\n",
            " [   2    1    0    0    3    2    0    5    3  993]]\n"
          ]
        }
      ]
    }
  ]
}